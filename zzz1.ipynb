{
 "cells": [
  {
   "cell_type": "code",
   "execution_count": 1,
   "metadata": {},
   "outputs": [],
   "source": [
    "import torch"
   ]
  },
  {
   "cell_type": "code",
   "execution_count": 2,
   "metadata": {},
   "outputs": [],
   "source": [
    "aa = torch.randn((3, 4, 5))\n",
    "bb = aa[:, :2, :]"
   ]
  },
  {
   "cell_type": "code",
   "execution_count": 4,
   "metadata": {},
   "outputs": [
    {
     "data": {
      "text/plain": [
       "tensor([[[0.8110, 0.5910, 0.4673, 0.6553, 0.8597],\n",
       "         [0.6109, 0.1978, 0.3888, 0.2546, 0.6783]],\n",
       "\n",
       "        [[0.4150, 0.6935, 0.0931, 0.3922, 0.4172],\n",
       "         [0.4883, 0.1624, 0.6803, 0.2446, 0.6630]],\n",
       "\n",
       "        [[0.6423, 0.2430, 0.7405, 0.8816, 0.4968],\n",
       "         [0.0999, 0.6755, 0.5824, 0.8572, 0.6838]]])"
      ]
     },
     "execution_count": 4,
     "metadata": {},
     "output_type": "execute_result"
    }
   ],
   "source": [
    "torch.sigmoid(bb)"
   ]
  }
 ],
 "metadata": {
  "kernelspec": {
   "display_name": "base",
   "language": "python",
   "name": "python3"
  },
  "language_info": {
   "codemirror_mode": {
    "name": "ipython",
    "version": 3
   },
   "file_extension": ".py",
   "mimetype": "text/x-python",
   "name": "python",
   "nbconvert_exporter": "python",
   "pygments_lexer": "ipython3",
   "version": "3.8.16"
  },
  "orig_nbformat": 4
 },
 "nbformat": 4,
 "nbformat_minor": 2
}
