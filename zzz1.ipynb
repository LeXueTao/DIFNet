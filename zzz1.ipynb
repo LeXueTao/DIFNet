{
 "cells": [
  {
   "cell_type": "code",
   "execution_count": 1,
   "metadata": {},
   "outputs": [],
   "source": [
    "import os\n",
    "import json\n",
    "from tqdm import tqdm\n",
    "import time\n",
    "from pycocotools.coco import COCO as pycoco\n",
    "import h5py\n",
    "import numpy as np\n",
    "from PIL import Image\n",
    "import torch"
   ]
  },
  {
   "cell_type": "code",
   "execution_count": 2,
   "metadata": {},
   "outputs": [],
   "source": [
    "aa = torch.load(\"./output/saved_transformer_models/DIFNet_best.pth\")"
   ]
  },
  {
   "cell_type": "code",
   "execution_count": 3,
   "metadata": {},
   "outputs": [
    {
     "data": {
      "text/plain": [
       "dict_keys(['torch_rng_state', 'cuda_rng_state', 'numpy_rng_state', 'random_rng_state', 'epoch', 'val_loss', 'val_cider', 'state_dict', 'optimizer', 'scheduler', 'scheduler_rl', 'patience', 'best_cider', 'use_rl'])"
      ]
     },
     "execution_count": 3,
     "metadata": {},
     "output_type": "execute_result"
    }
   ],
   "source": [
    "aa.keys()"
   ]
  },
  {
   "cell_type": "code",
   "execution_count": 4,
   "metadata": {},
   "outputs": [
    {
     "data": {
      "text/plain": [
       "28"
      ]
     },
     "execution_count": 4,
     "metadata": {},
     "output_type": "execute_result"
    }
   ],
   "source": [
    "aa['epoch']"
   ]
  },
  {
   "cell_type": "code",
   "execution_count": 53,
   "metadata": {},
   "outputs": [],
   "source": [
    "class dd():\n",
    "    def __init__(self) -> None:\n",
    "        self.num = 10\n",
    "        self.fields = dict(zip(['a', 'b'], [1, 2]))\n",
    "\n",
    "    def __getitem__(self, i):\n",
    "        return i\n",
    "\n",
    "    def __len__(self):\n",
    "        return 100\n",
    "    \n",
    "    def __getattr__(self, attr): \n",
    "        # print('laji')\n",
    "        if attr in self.fields:\n",
    "            yield 123\n",
    "        else:\n",
    "            raise AttributeError(\"77\")"
   ]
  },
  {
   "cell_type": "code",
   "execution_count": 54,
   "metadata": {},
   "outputs": [],
   "source": [
    "aa = dd()"
   ]
  },
  {
   "cell_type": "code",
   "execution_count": 55,
   "metadata": {},
   "outputs": [
    {
     "data": {
      "text/plain": [
       "True"
      ]
     },
     "execution_count": 55,
     "metadata": {},
     "output_type": "execute_result"
    }
   ],
   "source": [
    "hasattr(aa, \"__getite__\")"
   ]
  },
  {
   "cell_type": "code",
   "execution_count": 24,
   "metadata": {},
   "outputs": [
    {
     "data": {
      "text/plain": [
       "16"
      ]
     },
     "execution_count": 24,
     "metadata": {},
     "output_type": "execute_result"
    }
   ],
   "source": [
    "next(dd)"
   ]
  },
  {
   "cell_type": "code",
   "execution_count": 46,
   "metadata": {},
   "outputs": [],
   "source": [
    "class MyClass:\n",
    "    def __init__(self):\n",
    "        self._data = {}\n",
    "    \n",
    "    def __getattr__(self, name):\n",
    "        if name in self._data:\n",
    "            return self._data[name]\n",
    "        else:\n",
    "            raise AttributeError(f\"'{self.__class__.__name__}' object has no attribute '{name}'\")\n"
   ]
  },
  {
   "cell_type": "code",
   "execution_count": 47,
   "metadata": {},
   "outputs": [
    {
     "name": "stdout",
     "output_type": "stream",
     "text": [
      "True\n",
      "False\n"
     ]
    }
   ],
   "source": [
    "my_obj = MyClass()\n",
    "my_obj._data['foo'] = 'bar'\n",
    "\n",
    "print(hasattr(my_obj, 'foo'))  # True\n",
    "print(hasattr(my_obj, 'bar'))  # False\n"
   ]
  },
  {
   "cell_type": "code",
   "execution_count": 57,
   "metadata": {},
   "outputs": [
    {
     "name": "stdout",
     "output_type": "stream",
     "text": [
      "aa ['aa']\n",
      "ab ['ab']\n",
      "ba ['ba']\n",
      "bb ['bb']\n",
      "bc ['bc']\n",
      "ca ['ca']\n"
     ]
    }
   ],
   "source": [
    "import itertools\n",
    "\n",
    "data = ['aa', 'ab', 'ba', 'bb', 'bc', 'ca']\n",
    "groups = itertools.groupby(data)\n",
    "\n",
    "for key, group in groups:\n",
    "    print(key, list(group))\n"
   ]
  }
 ],
 "metadata": {
  "kernelspec": {
   "display_name": "base",
   "language": "python",
   "name": "python3"
  },
  "language_info": {
   "codemirror_mode": {
    "name": "ipython",
    "version": 3
   },
   "file_extension": ".py",
   "mimetype": "text/x-python",
   "name": "python",
   "nbconvert_exporter": "python",
   "pygments_lexer": "ipython3",
   "version": "3.8.16"
  },
  "orig_nbformat": 4
 },
 "nbformat": 4,
 "nbformat_minor": 2
}
