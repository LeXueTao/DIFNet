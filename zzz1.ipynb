{
 "cells": [
  {
   "cell_type": "code",
   "execution_count": 3,
   "metadata": {},
   "outputs": [],
   "source": [
    "import os\n",
    "import json\n",
    "from tqdm import tqdm\n",
    "import time\n",
    "from pycocotools.coco import COCO as pycoco\n",
    "import h5py\n",
    "import numpy as np"
   ]
  },
  {
   "cell_type": "code",
   "execution_count": 4,
   "metadata": {},
   "outputs": [
    {
     "name": "stdout",
     "output_type": "stream",
     "text": [
      "loading annotations into memory...\n",
      "Done (t=2.83s)\n",
      "creating index...\n",
      "index created!\n"
     ]
    }
   ],
   "source": [
    "val = pycoco(\"./dataset/coco2014/annotations/captions_val2014.json\")"
   ]
  },
  {
   "cell_type": "code",
   "execution_count": 5,
   "metadata": {},
   "outputs": [],
   "source": [
    "id_list = []\n",
    "for i in val.anns.keys():\n",
    "    image_id = val.anns[i]['image_id']\n",
    "    id_list.append(image_id)"
   ]
  },
  {
   "cell_type": "code",
   "execution_count": 6,
   "metadata": {},
   "outputs": [],
   "source": [
    "id_set = set(id_list)"
   ]
  },
  {
   "cell_type": "code",
   "execution_count": 7,
   "metadata": {},
   "outputs": [
    {
     "name": "stderr",
     "output_type": "stream",
     "text": [
      "  1%|          | 499/40504 [02:58<4:25:30,  2.51it/s]"
     ]
    }
   ],
   "source": [
    "no_exist = 0\n",
    "root = \"./dataset/coco2014_gridfeats/X101_val/\"\n",
    "with tqdm(unit='it', total=len(id_set)) as pbar:\n",
    "    for i in id_set:\n",
    "        try:\n",
    "            f = h5py.File('./dataset/coco2014_gridfeats/X101_trainval_hdf5/X101_grid_feats_coco_trainval.hdf5', 'r')\n",
    "            precomp_data = f['%d_grids' % i][()]\n",
    "            np.save(root+str(i), precomp_data)\n",
    "        except KeyError:\n",
    "            no_exist += 1\n",
    "        pbar.update()"
   ]
  }
 ],
 "metadata": {
  "kernelspec": {
   "display_name": "base",
   "language": "python",
   "name": "python3"
  },
  "language_info": {
   "codemirror_mode": {
    "name": "ipython",
    "version": 3
   },
   "file_extension": ".py",
   "mimetype": "text/x-python",
   "name": "python",
   "nbconvert_exporter": "python",
   "pygments_lexer": "ipython3",
   "version": "3.8.16"
  },
  "orig_nbformat": 4
 },
 "nbformat": 4,
 "nbformat_minor": 2
}
