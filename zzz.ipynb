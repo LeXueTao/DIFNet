{
 "cells": [
  {
   "cell_type": "code",
   "execution_count": 1,
   "metadata": {},
   "outputs": [],
   "source": [
    "import os\n",
    "import json\n",
    "import tqdm\n",
    "import time"
   ]
  },
  {
   "cell_type": "code",
   "execution_count": 7,
   "metadata": {},
   "outputs": [
    {
     "name": "stdout",
     "output_type": "stream",
     "text": [
      "系统时间： 2.00178861618042\n",
      "CPU时间： 0.002291446000000086\n"
     ]
    }
   ],
   "source": [
    "'''\n",
    "学习中遇到问题没人解答？小编创建了一个Python学习交流QQ群：857662006\n",
    "寻找有志同道合的小伙伴，互帮互助,群里还有不错的视频学习教程和PDF电子书！\n",
    "'''\n",
    "import time\n",
    "\n",
    "def test():\n",
    "    a = 0\n",
    "    for i in range(1,10000):\n",
    "        a *=i\n",
    "\n",
    "t0 = time.time()\n",
    "t1 = time.process_time()\n",
    "test()\n",
    "time.sleep(2)\n",
    "t_0 = time.time()\n",
    "t_1 = time.process_time()\n",
    "print('系统时间：',t_0-t0)\n",
    "print('CPU时间：',t_1-t1)\n",
    "\n"
   ]
  },
  {
   "cell_type": "code",
   "execution_count": 19,
   "metadata": {},
   "outputs": [
    {
     "name": "stderr",
     "output_type": "stream",
     "text": [
      "s/it: 100%|██████████| 10.0/10.0 [00:01<00:00, 9.90it/s]\n",
      "it/s: 100%|██████████| 10.0/10.0 [00:01<00:00, 9.90s/s]\n"
     ]
    }
   ],
   "source": [
    "\n",
    "\n"
   ]
  }
 ],
 "metadata": {
  "kernelspec": {
   "display_name": "base",
   "language": "python",
   "name": "python3"
  },
  "language_info": {
   "codemirror_mode": {
    "name": "ipython",
    "version": 3
   },
   "file_extension": ".py",
   "mimetype": "text/x-python",
   "name": "python",
   "nbconvert_exporter": "python",
   "pygments_lexer": "ipython3",
   "version": "3.8.16"
  },
  "orig_nbformat": 4
 },
 "nbformat": 4,
 "nbformat_minor": 2
}
