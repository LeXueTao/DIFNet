{
 "cells": [
  {
   "cell_type": "code",
   "execution_count": 1,
   "metadata": {},
   "outputs": [],
   "source": [
    "import torch\n",
    "from torch import nn\n",
    "import json\n",
    "from collections import OrderedDict\n",
    "import h5py\n",
    "import numpy as np\n",
    "from torch.utils.data.dataloader import default_collate"
   ]
  },
  {
   "cell_type": "code",
   "execution_count": 2,
   "metadata": {},
   "outputs": [
    {
     "name": "stdout",
     "output_type": "stream",
     "text": [
      "Help on function default_collate in module torch.utils.data._utils.collate:\n",
      "\n",
      "default_collate(batch)\n",
      "    Function that takes in a batch of data and puts the elements within the batch\n",
      "    into a tensor with an additional outer dimension - batch size. The exact output type can be\n",
      "    a :class:`torch.Tensor`, a `Sequence` of :class:`torch.Tensor`, a\n",
      "    Collection of :class:`torch.Tensor`, or left unchanged, depending on the input type.\n",
      "    This is used as the default function for collation when\n",
      "    `batch_size` or `batch_sampler` is defined in :class:`~torch.utils.data.DataLoader`.\n",
      "    \n",
      "    Here is the general input type (based on the type of the element within the batch) to output type mapping:\n",
      "    \n",
      "        * :class:`torch.Tensor` -> :class:`torch.Tensor` (with an added outer dimension batch size)\n",
      "        * NumPy Arrays -> :class:`torch.Tensor`\n",
      "        * `float` -> :class:`torch.Tensor`\n",
      "        * `int` -> :class:`torch.Tensor`\n",
      "        * `str` -> `str` (unchanged)\n",
      "        * `bytes` -> `bytes` (unchanged)\n",
      "        * `Mapping[K, V_i]` -> `Mapping[K, default_collate([V_1, V_2, ...])]`\n",
      "        * `NamedTuple[V1_i, V2_i, ...]` -> `NamedTuple[default_collate([V1_1, V1_2, ...]),\n",
      "          default_collate([V2_1, V2_2, ...]), ...]`\n",
      "        * `Sequence[V1_i, V2_i, ...]` -> `Sequence[default_collate([V1_1, V1_2, ...]),\n",
      "          default_collate([V2_1, V2_2, ...]), ...]`\n",
      "    \n",
      "    Args:\n",
      "        batch: a single batch to be collated\n",
      "    \n",
      "    Examples:\n",
      "        >>> # Example with a batch of `int`s:\n",
      "        >>> default_collate([0, 1, 2, 3])\n",
      "        tensor([0, 1, 2, 3])\n",
      "        >>> # Example with a batch of `str`s:\n",
      "        >>> default_collate(['a', 'b', 'c'])\n",
      "        ['a', 'b', 'c']\n",
      "        >>> # Example with `Map` inside the batch:\n",
      "        >>> default_collate([{'A': 0, 'B': 1}, {'A': 100, 'B': 100}])\n",
      "        {'A': tensor([  0, 100]), 'B': tensor([  1, 100])}\n",
      "        >>> # Example with `NamedTuple` inside the batch:\n",
      "        >>> Point = namedtuple('Point', ['x', 'y'])\n",
      "        >>> default_collate([Point(0, 0), Point(1, 1)])\n",
      "        Point(x=tensor([0, 1]), y=tensor([0, 1]))\n",
      "        >>> # Example with `Tuple` inside the batch:\n",
      "        >>> default_collate([(0, 1), (2, 3)])\n",
      "        [tensor([0, 2]), tensor([1, 3])]\n",
      "        >>> # Example with `List` inside the batch:\n",
      "        >>> default_collate([[0, 1], [2, 3]])\n",
      "        [tensor([0, 2]), tensor([1, 3])]\n",
      "\n"
     ]
    }
   ],
   "source": [
    "help(default_collate)"
   ]
  },
  {
   "cell_type": "code",
   "execution_count": 16,
   "metadata": {},
   "outputs": [],
   "source": [
    "image_id = 787980"
   ]
  }
 ],
 "metadata": {
  "kernelspec": {
   "display_name": "base",
   "language": "python",
   "name": "python3"
  },
  "language_info": {
   "codemirror_mode": {
    "name": "ipython",
    "version": 3
   },
   "file_extension": ".py",
   "mimetype": "text/x-python",
   "name": "python",
   "nbconvert_exporter": "python",
   "pygments_lexer": "ipython3",
   "version": "3.8.16"
  },
  "orig_nbformat": 4
 },
 "nbformat": 4,
 "nbformat_minor": 2
}
