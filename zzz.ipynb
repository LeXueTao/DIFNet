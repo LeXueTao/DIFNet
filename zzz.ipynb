{
 "cells": [
  {
   "cell_type": "code",
   "execution_count": 2,
   "metadata": {},
   "outputs": [],
   "source": [
    "import os\n",
    "import json\n",
    "import tqdm\n",
    "import time\n",
    "from pycocotools.coco import COCO as pycoco\n",
    "import h5py"
   ]
  },
  {
   "cell_type": "code",
   "execution_count": 3,
   "metadata": {},
   "outputs": [
    {
     "name": "stdout",
     "output_type": "stream",
     "text": [
      "loading annotations into memory...\n",
      "Done (t=0.96s)\n",
      "creating index...\n",
      "index created!\n"
     ]
    }
   ],
   "source": [
    "train = pycoco(\"./dataset/coco2014/annotations/captions_train2014.json\")"
   ]
  },
  {
   "cell_type": "code",
   "execution_count": 4,
   "metadata": {},
   "outputs": [
    {
     "data": {
      "text/plain": [
       "10"
      ]
     },
     "execution_count": 4,
     "metadata": {},
     "output_type": "execute_result"
    }
   ],
   "source": [
    "num = 10\n",
    "num % 50"
   ]
  },
  {
   "cell_type": "code",
   "execution_count": 16,
   "metadata": {},
   "outputs": [
    {
     "name": "stdout",
     "output_type": "stream",
     "text": [
      "load_time:0.21653389930725098\n",
      "load_time:0.2569136619567871\n",
      "load_time:0.28110814094543457\n",
      "load_time:0.530343770980835\n",
      "load_time:0.20958900451660156\n",
      "load_time:0.5549311637878418\n",
      "load_time:0.6918985843658447\n",
      "load_time:0.2096085548400879\n",
      "load_time:0.0009753704071044922\n",
      "load_time:0.22287631034851074\n",
      "load_time:0.1609053611755371\n",
      "load_time:0.5003261566162109\n",
      "load_time:0.4907867908477783\n",
      "load_time:0.001028299331665039\n",
      "load_time:0.14886975288391113\n",
      "load_time:0.29834961891174316\n",
      "load_time:0.25398755073547363\n",
      "load_time:0.0012772083282470703\n",
      "load_time:0.23076438903808594\n",
      "load_time:0.20732831954956055\n",
      "load_time:0.4086477756500244\n",
      "load_time:0.2662959098815918\n",
      "load_time:0.2629382610321045\n",
      "load_time:2.4986252784729004\n",
      "load_time:0.20287632942199707\n",
      "load_time:1.2912321090698242\n",
      "load_time:0.046314239501953125\n",
      "load_time:0.0009343624114990234\n",
      "load_time:0.035588741302490234\n",
      "load_time:0.0007369518280029297\n",
      "load_time:0.1005563735961914\n",
      "load_time:0.0015406608581542969\n",
      "load_time:0.278003454208374\n",
      "load_time:0.512739896774292\n",
      "load_time:0.18204140663146973\n",
      "load_time:0.13957834243774414\n",
      "load_time:0.1594400405883789\n",
      "load_time:0.38355350494384766\n",
      "load_time:0.028515338897705078\n",
      "load_time:0.6176238059997559\n",
      "load_time:0.43120527267456055\n",
      "load_time:0.0011477470397949219\n",
      "load_time:0.0006787776947021484\n",
      "load_time:0.12333321571350098\n",
      "load_time:0.30771350860595703\n",
      "load_time:0.0747520923614502\n",
      "load_time:0.0008676052093505859\n",
      "load_time:0.01961803436279297\n",
      "load_time:1.0168278217315674\n",
      "load_time:0.4505949020385742\n",
      "load_time:0.054144859313964844\n",
      "load_time:0.3637816905975342\n",
      "load_time:0.6559312343597412\n",
      "load_time:0.6053638458251953\n",
      "load_time:0.09378957748413086\n",
      "load_time:0.17697644233703613\n",
      "load_time:0.44388532638549805\n",
      "load_time:0.16757893562316895\n",
      "load_time:0.738107442855835\n",
      "load_time:0.002588510513305664\n",
      "load_time:0.8282763957977295\n",
      "load_time:0.12005758285522461\n",
      "load_time:0.13291263580322266\n",
      "load_time:0.24680733680725098\n",
      "load_time:0.0013244152069091797\n",
      "load_time:1.1439759731292725\n",
      "load_time:0.0012125968933105469\n",
      "load_time:0.1304018497467041\n",
      "load_time:0.42121148109436035\n",
      "load_time:0.5081019401550293\n",
      "load_time:0.0013134479522705078\n",
      "load_time:0.0007300376892089844\n",
      "load_time:0.0006389617919921875\n",
      "load_time:0.0007348060607910156\n",
      "load_time:0.0006823539733886719\n",
      "load_time:0.42330431938171387\n",
      "load_time:0.22108101844787598\n",
      "load_time:0.0008924007415771484\n",
      "load_time:0.4130091667175293\n",
      "load_time:0.0017344951629638672\n",
      "load_time:0.5565662384033203\n",
      "load_time:0.289442777633667\n",
      "load_time:0.19104528427124023\n",
      "load_time:0.10698318481445312\n",
      "load_time:0.0007507801055908203\n",
      "load_time:0.0006291866302490234\n",
      "load_time:0.05651116371154785\n",
      "load_time:0.21454620361328125\n",
      "load_time:0.0012357234954833984\n",
      "load_time:0.0006129741668701172\n",
      "load_time:0.0005910396575927734\n",
      "load_time:0.0005724430084228516\n",
      "load_time:0.0005125999450683594\n",
      "load_time:0.0005779266357421875\n",
      "load_time:0.0006082057952880859\n",
      "load_time:0.17502951622009277\n",
      "load_time:0.14514422416687012\n",
      "load_time:0.12138581275939941\n",
      "load_time:0.0008826255798339844\n",
      "load_time:0.2898855209350586\n",
      "load_time:0.001058816909790039\n",
      "load_time:0.32724690437316895\n",
      "load_time:0.8076293468475342\n",
      "load_time:0.5861456394195557\n",
      "load_time:0.13605713844299316\n",
      "load_time:0.001131296157836914\n",
      "load_time:0.0008335113525390625\n",
      "load_time:0.2893955707550049\n",
      "load_time:0.3564133644104004\n",
      "load_time:0.5564711093902588\n",
      "load_time:0.001430511474609375\n",
      "load_time:0.45840001106262207\n",
      "load_time:1.1792371273040771\n",
      "load_time:0.0015366077423095703\n",
      "load_time:0.0007021427154541016\n",
      "load_time:0.03437614440917969\n",
      "load_time:0.25554537773132324\n",
      "load_time:0.6087226867675781\n",
      "load_time:0.0012912750244140625\n",
      "load_time:0.0007064342498779297\n",
      "load_time:0.0006258487701416016\n",
      "load_time:0.1271209716796875\n",
      "load_time:0.0009317398071289062\n",
      "load_time:0.12569093704223633\n",
      "load_time:0.0012173652648925781\n",
      "load_time:0.16579246520996094\n"
     ]
    }
   ],
   "source": [
    "no_exist = 0\n",
    "num = 0\n",
    "stop = 20000\n",
    "for i in train.anns.keys():\n",
    "    image_id = train.anns[i]['image_id']\n",
    "    num += 1\n",
    "    if(num<stop):\n",
    "        continue\n",
    "    try:\n",
    "        start_time = time.time()\n",
    "        f = h5py.File('./dataset/coco_grid_feats2.hdf5', 'r')\n",
    "        precomp_data = f['%d_grids' % image_id][()]\n",
    "        end_time = time.time()\n",
    "        print(\"load_time:{}\".format(end_time-start_time))\n",
    "        num += 1\n",
    "        if(num>=250+stop):\n",
    "            break\n",
    "    except KeyError:\n",
    "        no_exist += 1\n"
   ]
  }
 ],
 "metadata": {
  "kernelspec": {
   "display_name": "base",
   "language": "python",
   "name": "python3"
  },
  "language_info": {
   "codemirror_mode": {
    "name": "ipython",
    "version": 3
   },
   "file_extension": ".py",
   "mimetype": "text/x-python",
   "name": "python",
   "nbconvert_exporter": "python",
   "pygments_lexer": "ipython3",
   "version": "3.8.16"
  },
  "orig_nbformat": 4
 },
 "nbformat": 4,
 "nbformat_minor": 2
}
