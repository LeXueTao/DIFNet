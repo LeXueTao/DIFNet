{
 "cells": [
  {
   "cell_type": "code",
   "execution_count": 4,
   "metadata": {},
   "outputs": [],
   "source": [
    "import torch\n",
    "from torch import nn\n",
    "import json\n",
    "from collections import OrderedDict"
   ]
  },
  {
   "cell_type": "code",
   "execution_count": 13,
   "metadata": {},
   "outputs": [],
   "source": [
    "class Model(nn.Module):\n",
    "    def __init__(self):\n",
    "        super(Model, self).__init__()\n",
    "        # 常见定义模型时的操作\n",
    "        self.param_nn = nn.Sequential(OrderedDict([\n",
    "            ('conv', nn.Conv2d(1, 1, 3, bias=False)),\n",
    "            ('fc', nn.Linear(1, 2, bias=False))\n",
    "        ]))\n",
    "\n",
    "        # 使用register_buffer()定义一组参数\n",
    "        self.register_buffer('param_buf', torch.randn(1, 2))\n",
    "\n",
    "        # 使用形式类似的register_parameter()定义一组参数\n",
    "        self.register_parameter('param_reg', nn.Parameter(torch.randn(1, 2)))\n",
    "\n",
    "        # 按照类的属性形式定义一组变量\n",
    "        self.param_attr = torch.randn(1, 2) \n",
    "\n",
    "        # print('self._modules: ', self._modules)\n",
    "        # print('self._parameters: ', self._parameters)\n",
    "        # print('self._buffers: ', self._buffers)\n",
    "\n",
    "    def forward(self, x):\n",
    "        return x"
   ]
  },
  {
   "cell_type": "code",
   "execution_count": 24,
   "metadata": {},
   "outputs": [
    {
     "name": "stdout",
     "output_type": "stream",
     "text": [
      "('param_buf', tensor([[-0.8306, -0.8691]]))\n"
     ]
    }
   ],
   "source": [
    "aa = Model()\n",
    "for i in aa.named_buffers():\n",
    "    print(i)"
   ]
  }
 ],
 "metadata": {
  "kernelspec": {
   "display_name": "base",
   "language": "python",
   "name": "python3"
  },
  "language_info": {
   "codemirror_mode": {
    "name": "ipython",
    "version": 3
   },
   "file_extension": ".py",
   "mimetype": "text/x-python",
   "name": "python",
   "nbconvert_exporter": "python",
   "pygments_lexer": "ipython3",
   "version": "3.8.16"
  },
  "orig_nbformat": 4
 },
 "nbformat": 4,
 "nbformat_minor": 2
}
