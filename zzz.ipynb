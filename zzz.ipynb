{
 "cells": [
  {
   "cell_type": "code",
   "execution_count": 1,
   "metadata": {},
   "outputs": [],
   "source": []
  },
  {
   "cell_type": "code",
   "execution_count": 1,
   "metadata": {},
   "outputs": [
    {
     "name": "stderr",
     "output_type": "stream",
     "text": [
      "进度条: 100%|██████████| 10000/10000 [00:05<00:00, 1807.65it/s, loss=0.00000]  \n"
     ]
    }
   ],
   "source": [
    "# -*- coding: utf-8 -*-\n",
    " \n",
    "from tqdm import tqdm\n",
    "from collections import OrderedDict\n",
    " \n",
    "total = 10000 #总迭代次数\n",
    "loss = total\n",
    "with tqdm(total=total, desc=\"进度条\") as pbar:\n",
    "    for i  in range(total):\n",
    "        loss -= 1 \n",
    "#        pbar.set_postfix(OrderedDict(loss='{0:1.5f}'.format(loss)))\n",
    "        pbar.set_postfix({'loss' : '{0:1.5f}'.format(loss)}) #输入一个字典，显示实验指标\n",
    "        pbar.update(1)\n",
    " \n"
   ]
  },
  {
   "cell_type": "code",
   "execution_count": 16,
   "metadata": {},
   "outputs": [],
   "source": [
    "image_id = 787980"
   ]
  }
 ],
 "metadata": {
  "kernelspec": {
   "display_name": "base",
   "language": "python",
   "name": "python3"
  },
  "language_info": {
   "codemirror_mode": {
    "name": "ipython",
    "version": 3
   },
   "file_extension": ".py",
   "mimetype": "text/x-python",
   "name": "python",
   "nbconvert_exporter": "python",
   "pygments_lexer": "ipython3",
   "version": "3.8.16"
  },
  "orig_nbformat": 4
 },
 "nbformat": 4,
 "nbformat_minor": 2
}
